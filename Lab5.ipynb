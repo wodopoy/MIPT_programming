{
 "cells": [
  {
   "cell_type": "markdown",
   "metadata": {},
   "source": [
    "# Объектно ориентированное программирование"
   ]
  },
  {
   "cell_type": "markdown",
   "metadata": {},
   "source": [
    "## Упражнение 2.1"
   ]
  },
  {
   "cell_type": "code",
   "execution_count": 26,
   "metadata": {},
   "outputs": [],
   "source": [
    "class Shape:\n",
    "    def __init__(self, width, height):\n",
    "        self.width = width\n",
    "        self.height = height\n",
    "class Triangle(Shape):\n",
    "    def __init__(self, width, height):\n",
    "        super().__init__(width, height)\n",
    "    def area(self):\n",
    "        return(int(self.width * self.height / 2))\n",
    "class Rectangle(Shape):\n",
    "    def __init__(self, width, height):\n",
    "        super().__init__(width, height)\n",
    "    def area(self):\n",
    "        return(int(self.width * self.height))"
   ]
  },
  {
   "cell_type": "markdown",
   "metadata": {},
   "source": [
    "Проверка"
   ]
  },
  {
   "cell_type": "code",
   "execution_count": 27,
   "metadata": {},
   "outputs": [
    {
     "name": "stdout",
     "output_type": "stream",
     "text": [
      "4\n",
      "48\n"
     ]
    }
   ],
   "source": [
    "t = Triangle(2, 4)\n",
    "print(t.area())\n",
    "r = Rectangle(8, 6)\n",
    "print(r.area())"
   ]
  },
  {
   "cell_type": "markdown",
   "metadata": {},
   "source": [
    "## Упражнение 2.2"
   ]
  },
  {
   "cell_type": "code",
   "execution_count": 34,
   "metadata": {},
   "outputs": [
    {
     "name": "stdout",
     "output_type": "stream",
     "text": [
      "I will be your Mother Diana\n",
      "I will be your Daughter Lilly\n"
     ]
    }
   ],
   "source": [
    "class Mother():\n",
    "    __name = 'Diana'\n",
    "    def __str__(self):\n",
    "        return ('I will be your Mother '+self.__name)\n",
    "class Daughter(Mother):\n",
    "    __name = 'Lilly'\n",
    "    def __str__(self):\n",
    "        return ('I will be your Daughter '+self.__name)\n",
    "\n",
    "print(Mother())\n",
    "print(Daughter())"
   ]
  },
  {
   "cell_type": "markdown",
   "metadata": {},
   "source": [
    "## Упражнение 2.3"
   ]
  },
  {
   "cell_type": "code",
   "execution_count": 11,
   "metadata": {},
   "outputs": [],
   "source": [
    "class Animal():\n",
    "    __name = ''\n",
    "    __age = 0\n",
    "    def get_name(self):\n",
    "        return self.__name\n",
    "\n",
    "    def get_age(self):\n",
    "        return self.__age\n",
    "\n",
    "    def set_name(self, name):\n",
    "        self.__name = name\n",
    "\n",
    "    def set_age(self, age):\n",
    "        self.__age = age\n",
    "    \n",
    "    def __res__(self):\n",
    "        return self.get_res()\n",
    "\n",
    "class Dolphin(Animal):\n",
    "    __type = 'Dolphin'\n",
    "    def get_type(self):\n",
    "        return self.__type\n",
    "    def get_res(self):\n",
    "        return \"Name: \" + self.get_name() + \"\\n\" + \"Age: \" + str(self.get_age()) + \"\\n\" + \"Kind of animal: \" + self.get_type()\n",
    "\n",
    "class Zebra(Animal):\n",
    "    __type = 'Zebra'\n",
    "    def get_type(self):\n",
    "        return self.__type\n",
    "    def get_res(self):\n",
    "        return \"Name: \" + self.get_name() + \"\\n\" + \"Age: \" + str(self.get_age()) + \"\\n\" + \"Kind of animal: \" + self.get_type()"
   ]
  },
  {
   "cell_type": "code",
   "execution_count": 12,
   "metadata": {},
   "outputs": [
    {
     "name": "stdout",
     "output_type": "stream",
     "text": [
      "Name: Beauty\n",
      "Age: 3\n",
      "Kind of animal: Zebra\n"
     ]
    }
   ],
   "source": [
    "z = Zebra()\n",
    "z.set_name('Beauty')\n",
    "z.set_age(3)\n",
    "print(z.get_res())"
   ]
  },
  {
   "cell_type": "markdown",
   "metadata": {},
   "source": [
    "## Упражнение 3. Игра"
   ]
  },
  {
   "cell_type": "markdown",
   "metadata": {},
   "source": [
    "gameunit.py"
   ]
  },
  {
   "cell_type": "code",
   "execution_count": 24,
   "metadata": {},
   "outputs": [],
   "source": [
    "class Attacker:\n",
    "    _health = None\n",
    "    _attack = None\n",
    "\n",
    "    def attack(self, target):\n",
    "        target._health -= self._attack\n",
    "\n",
    "    def is_alive(self):\n",
    "        return (self._health > 0)"
   ]
  },
  {
   "cell_type": "markdown",
   "metadata": {},
   "source": [
    "hero.py"
   ]
  },
  {
   "cell_type": "code",
   "execution_count": 29,
   "metadata": {},
   "outputs": [],
   "source": [
    "#from gameunit import *\n",
    "\n",
    "#FIXME:\n",
    "\"\"\"В этом файле должен быть описан класс героя, унаследованный от Attacker\n",
    "Герой должен иметь 100 поинтов здоровья, атаку 50, опыт 0, имя, задаваемое в конструкторе\n",
    "Метод attack должен получать атрибут target и уменьшать его здоровье на величину атаки.\n",
    "\n",
    "\"\"\"\n",
    "class Hero(Attacker):\n",
    "    def __init__ (self, name):\n",
    "        self._health = 100\n",
    "        self._attack = 50\n",
    "        self._experience = 0\n",
    "        self._name = name\n",
    "    def add_experience(self, experience):\n",
    "        self._experience += experience"
   ]
  },
  {
   "cell_type": "markdown",
   "metadata": {},
   "source": [
    "enemies.py"
   ]
  },
  {
   "cell_type": "code",
   "execution_count": 26,
   "metadata": {},
   "outputs": [],
   "source": [
    "#from gameunit import *\n",
    "from random import randint, choice\n",
    "\n",
    "class Enemy(Attacker):\n",
    "    pass\n",
    "\n",
    "\n",
    "def generate_random_enemy():\n",
    "    RandomEnemyType = choice(enemy_types)\n",
    "    enemy = RandomEnemyType()\n",
    "    return enemy\n",
    "\n",
    "\n",
    "def generate_dragon_list(enemy_number):\n",
    "    enemy_list = [generate_random_enemy() for i in range(enemy_number)]\n",
    "    return enemy_list\n",
    "\n",
    "\n",
    "class Dragon(Enemy):\n",
    "    def set_answer(self, answer):\n",
    "        self.__answer = answer\n",
    "\n",
    "    def check_answer(self, answer):\n",
    "        return answer == self.__answer\n",
    "\n",
    "\n",
    "class GreenDragon(Dragon):\n",
    "    def __init__(self):\n",
    "        self._health = 200\n",
    "        self._attack = 10\n",
    "        self._color = 'зелёный'\n",
    "\n",
    "    def question(self):\n",
    "        x = randint(1,100)\n",
    "        y = randint(1,100)\n",
    "        self.__quest = str(x) + '+' + str(y)\n",
    "        self.set_answer(x + y)\n",
    "        return self.__quest\n",
    "\n",
    "#FIXME здесь также должны быть описаны классы RedDragon и BlackDragon\n",
    "# красный дракон учит вычитанию, а чёрный -- умножению.\n",
    "\n",
    "class RedDragon(Dragon):\n",
    "    def __init__(self):\n",
    "        self._health = 200\n",
    "        self._attack = 10\n",
    "        self._color = 'красный'\n",
    "\n",
    "    def question(self):\n",
    "        x = randint(1,100)\n",
    "        y = randint(1,100)\n",
    "        self.__quest = str(x) + '-' + str(y)\n",
    "        self.set_answer(x - y)\n",
    "        return self.__quest\n",
    "\n",
    "class BlackDragon(Dragon):\n",
    "    def __init__(self):\n",
    "        self._health = 200\n",
    "        self._attack = 10\n",
    "        self._color = 'чёрный'\n",
    "\n",
    "    def question(self):\n",
    "        x = randint(1,100)\n",
    "        y = randint(1,100)\n",
    "        self.__quest = str(x) + '*' + str(y)\n",
    "        self.set_answer(x * y)\n",
    "        return self.__quest\n",
    "    \n",
    "enemy_types = [GreenDragon, RedDragon, BlackDragon]"
   ]
  },
  {
   "cell_type": "markdown",
   "metadata": {},
   "source": [
    "tournament.py"
   ]
  },
  {
   "cell_type": "code",
   "execution_count": 31,
   "metadata": {},
   "outputs": [],
   "source": [
    "#from enemies import *\n",
    "#from hero import *\n",
    "\n",
    "def annoying_input_int(message =''):\n",
    "    answer = None\n",
    "    while answer == None:\n",
    "        try:\n",
    "            answer = int(input(message))\n",
    "        except ValueError:\n",
    "            print('Вы ввели недопустимые символы')\n",
    "    return answer\n",
    "\n",
    "\n",
    "def game_tournament(hero, dragon_list):\n",
    "    for dragon in dragon_list:\n",
    "        print('Вышел', dragon._color, 'дракон!')\n",
    "        while dragon.is_alive() and hero.is_alive():\n",
    "            print('Вопрос:', dragon.question())\n",
    "            answer = annoying_input_int('Ответ:')\n",
    "\n",
    "            if dragon.check_answer(answer):\n",
    "                hero.attack(dragon)\n",
    "                print('Верно! \\n** дракон кричит от боли **')\n",
    "            else:\n",
    "                dragon.attack(hero)\n",
    "                print('Ошибка! \\n** вам нанесён удар... **')\n",
    "        if dragon.is_alive():\n",
    "            break\n",
    "        print('Дракон', dragon._color, 'повержен! Вам начисленно 5 опыта\\n')\n",
    "        hero.add_experience(5)\n",
    "        sleep(3)\n",
    "\n",
    "    if hero.is_alive():\n",
    "        print('Поздравляем! Вы победили!')\n",
    "        print('Ваш накопленный опыт:', hero._experience)\n",
    "    else:\n",
    "        print('К сожалению, Вы проиграли...')\n",
    "\n",
    "def start_game():\n",
    "\n",
    "    try:\n",
    "        print('Добро пожаловать в арифметико-ролевую игру с драконами!')\n",
    "        print('Представьтесь, пожалуйста: ', end = '')\n",
    "        hero = Hero(input())\n",
    "\n",
    "        dragon_number = 3\n",
    "        dragon_list = generate_dragon_list(dragon_number)\n",
    "        assert(len(dragon_list) == 3)\n",
    "        print('У Вас на пути', dragon_number, 'драконов!')\n",
    "        game_tournament(hero, dragon_list)\n",
    "\n",
    "    except EOFError:\n",
    "        print('Поток ввода закончился. Извините, принимать ответы более невозможно.')"
   ]
  },
  {
   "cell_type": "markdown",
   "metadata": {},
   "source": [
    "main.py"
   ]
  },
  {
   "cell_type": "code",
   "execution_count": 30,
   "metadata": {},
   "outputs": [
    {
     "name": "stdout",
     "output_type": "stream",
     "text": [
      "__main__\n",
      "Добро пожаловать в арифметико-ролевую игру с драконами!\n",
      "Представьтесь, пожалуйста: x\n",
      "У Вас на пути 3 драконов!\n",
      "Вышел чёрный дракон!\n",
      "Вопрос: 4*46\n",
      "Ответ:184\n",
      "Верно! \n",
      "** дракон кричит от боли **\n",
      "Вопрос: 13*51\n",
      "Ответ:663\n",
      "Верно! \n",
      "** дракон кричит от боли **\n",
      "Вопрос: 9*65\n",
      "Ответ:585\n",
      "Верно! \n",
      "** дракон кричит от боли **\n",
      "Вопрос: 65*60\n",
      "Ответ:3900\n",
      "Верно! \n",
      "** дракон кричит от боли **\n",
      "Дракон чёрный повержен!\n",
      "\n",
      "Вышел красный дракон!\n",
      "Вопрос: 83-67\n",
      "Ответ:16\n",
      "Верно! \n",
      "** дракон кричит от боли **\n",
      "Вопрос: 90-52\n",
      "Ответ:1\n",
      "Ошибка! \n",
      "** вам нанесён удар... **\n",
      "Вопрос: 43-27\n",
      "Ответ:16\n",
      "Верно! \n",
      "** дракон кричит от боли **\n",
      "Вопрос: 10-60\n",
      "Ответ:-50\n",
      "Верно! \n",
      "** дракон кричит от боли **\n",
      "Вопрос: 94-98\n",
      "Ответ:-4\n",
      "Верно! \n",
      "** дракон кричит от боли **\n",
      "Дракон красный повержен!\n",
      "\n",
      "Вышел зелёный дракон!\n",
      "Вопрос: 88+11\n",
      "Ответ:99\n",
      "Верно! \n",
      "** дракон кричит от боли **\n",
      "Вопрос: 89+85\n",
      "Ответ:174\n",
      "Верно! \n",
      "** дракон кричит от боли **\n",
      "Вопрос: 21+59\n",
      "Ответ:80\n",
      "Верно! \n",
      "** дракон кричит от боли **\n",
      "Вопрос: 90+20\n",
      "Ответ:110\n",
      "Верно! \n",
      "** дракон кричит от боли **\n",
      "Дракон зелёный повержен!\n",
      "\n",
      "Поздравляем! Вы победили!\n",
      "Ваш накопленный опыт: 0\n"
     ]
    }
   ],
   "source": [
    "#from tournament import *\n",
    "\n",
    "print(__name__)\n",
    "\n",
    "if __name__ == '__main__':\n",
    "    start_game()\n"
   ]
  }
 ],
 "metadata": {
  "kernelspec": {
   "display_name": "Python 3",
   "language": "python",
   "name": "python3"
  },
  "language_info": {
   "codemirror_mode": {
    "name": "ipython",
    "version": 3
   },
   "file_extension": ".py",
   "mimetype": "text/x-python",
   "name": "python",
   "nbconvert_exporter": "python",
   "pygments_lexer": "ipython3",
   "version": "3.7.3"
  }
 },
 "nbformat": 4,
 "nbformat_minor": 2
}

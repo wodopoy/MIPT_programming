{
 "cells": [
  {
   "cell_type": "markdown",
   "metadata": {},
   "source": [
    "## Задача 1"
   ]
  },
  {
   "cell_type": "code",
   "execution_count": 12,
   "metadata": {},
   "outputs": [],
   "source": [
    "import math\n",
    "class Complex():\n",
    "    def __init__(self, x = 0, i = 0):\n",
    "        self.x = x\n",
    "        self.i = i\n",
    "    def __add__(self, other):\n",
    "        return Complex(self.x + other.x, self.i + other.i)\n",
    "    \n",
    "    def __sub__(self, other):\n",
    "        return Complex(self.x - other.x, self.i - other.i)\n",
    "\n",
    "    def __mul__(self, other):\n",
    "        return Complex(self.x * other.x - other.i * self.i, self.x * other.i + other.x * self.i)\n",
    "    \n",
    "    def __truediv__(self, other):\n",
    "        return Complex((self.x * other.x - other.i * self.i)/(other.x * other.x + other.i * other.i), (other.x * self.i - self.x * other.i)/(other.x * other.x + other.i * other.i))\n",
    "\n",
    "    def __abs__(self):\n",
    "        return math.sqrt(self.x * self.x + self.i * self.i)\n",
    "    def __str__(self):\n",
    "        out = ''\n",
    "        if self.x != 0:\n",
    "            out += str(self.x)\n",
    "        if self.i > 0:\n",
    "            if out == '':\n",
    "                out += '{}i'.format(self.i)\n",
    "            else:\n",
    "                out += ' + {}i'.format(self.i)\n",
    "        elif self.i < 0:\n",
    "            if out == '':\n",
    "                out += '{}i'.format(self.i)\n",
    "            else:\n",
    "                out += ' - {}i'.format(-self.i)\n",
    "        else:\n",
    "            pass\n",
    "        return out"
   ]
  },
  {
   "cell_type": "markdown",
   "metadata": {},
   "source": [
    "Check"
   ]
  },
  {
   "cell_type": "code",
   "execution_count": 13,
   "metadata": {},
   "outputs": [
    {
     "name": "stdout",
     "output_type": "stream",
     "text": [
      "5i\n"
     ]
    }
   ],
   "source": [
    "x1 = Complex(2, 4)\n",
    "x2 = Complex(-2, 1)\n",
    "print(x1 + x2)"
   ]
  },
  {
   "cell_type": "markdown",
   "metadata": {},
   "source": [
    "## Задача 2"
   ]
  },
  {
   "cell_type": "code",
   "execution_count": null,
   "metadata": {},
   "outputs": [],
   "source": [
    "class Vector():\n",
    "    def __init__(self, x = 0, y = 0, z = 0, m = 0):\n",
    "        self.x = x\n",
    "        self.y = y\n",
    "        self.z = z\n",
    "        self.m = m\n",
    "        \n",
    "    def __add__(self, other):\n",
    "        return Vector(self.x + other.x, self.y + other.y, self.z + other.z)\n",
    "\n",
    "    def __sub__(self, other):\n",
    "        return Vector(self.x - other.x, self.y - other.y, self.z - other.z)\n",
    "\n",
    "    def __mul__(self, other):\n",
    "        return self.x*other.x + self.y*other.y + self.z*other.z\n",
    "\n",
    "    def __abs__(self):\n",
    "        return (self.x**2 + self.y**2)**0.5\n",
    "\n",
    "    def __nummul__(self):\n",
    "        return Vector(self.m*self.x, self.m*self.y, self.m*self.z)\n",
    "\n",
    "N = int(input())\n",
    "l = 0.0\n",
    "M = (0, 0, 0)\n",
    "for i in range(N):\n",
    "    x, y, z = map(int, input().split())\n",
    "    A = Vector(x, y, z)\n",
    "    if abs(A) > l:\n",
    "        l = abs(A)\n",
    "        M = A\n",
    "\n",
    "print(M.x, M.y, M.z)"
   ]
  }
 ],
 "metadata": {
  "kernelspec": {
   "display_name": "Python 3",
   "language": "python",
   "name": "python3"
  },
  "language_info": {
   "codemirror_mode": {
    "name": "ipython",
    "version": 3
   },
   "file_extension": ".py",
   "mimetype": "text/x-python",
   "name": "python",
   "nbconvert_exporter": "python",
   "pygments_lexer": "ipython3",
   "version": "3.7.3"
  }
 },
 "nbformat": 4,
 "nbformat_minor": 2
}
